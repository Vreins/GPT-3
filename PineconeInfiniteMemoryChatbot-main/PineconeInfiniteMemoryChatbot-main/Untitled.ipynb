{
 "cells": [
  {
   "cell_type": "code",
   "execution_count": null,
   "id": "5aa9b338",
   "metadata": {},
   "outputs": [],
   "source": [
    "#### get user input, save it, vectorize it, save to pinecone\n",
    "        \n",
    "        #message = '%s: %s - %s' % ('USER', timestring, a)\n",
    "        message = a\n",
    "        vector = gpt3_embedding(message)\n",
    "        unique_id = str(uuid4())\n",
    "        metadata = {'speaker': 'USER', 'time': timestamp, 'message': message, 'timestring': timestring, 'uuid': unique_id}\n",
    "        save_json('nexus/%s.json' % unique_id, metadata)\n",
    "        payload.append((unique_id, vector))\n",
    "        #### search for relevant messages, and generate a response\n",
    "        results = vdb.query(vector=vector, top_k=convo_length)\n",
    "        conversation = load_conversation(results)  # results should be a DICT with 'matches' which is a LIST of DICTS, with 'id'\n",
    "        prompt = open_file('prompt_response.txt').replace('<<CONVERSATION>>', conversation).replace('<<MESSAGE>>', a)\n",
    "        #### generate response, vectorize, save, etc\n",
    "        output = gpt3_completion(prompt)\n",
    "        timestamp = time()\n",
    "        timestring = timestamp_to_datetime(timestamp)\n",
    "        #message = '%s: %s - %s' % ('RAVEN', timestring, output)\n",
    "        message = output\n",
    "        vector = gpt3_embedding(message)\n",
    "        unique_id = str(uuid4())\n",
    "        metadata = {'speaker': 'RAVEN', 'time': timestamp, 'message': message, 'timestring': timestring, 'uuid': unique_id}\n",
    "        save_json('nexus/%s.json' % unique_id, metadata)\n",
    "        payload.append((unique_id, vector))\n",
    "        vdb.upsert(payload)\n",
    "        print('\\n\\nRAVEN: %s' % output) "
   ]
  },
  {
   "cell_type": "code",
   "execution_count": null,
   "id": "b3e802d8",
   "metadata": {},
   "outputs": [],
   "source": [
    "payload = list()\n",
    "a = input('\\n\\nUSER: ')\n",
    "timestamp = time()\n",
    "timestring = timestamp_to_datetime(timestamp)"
   ]
  },
  {
   "cell_type": "code",
   "execution_count": null,
   "id": "7f299e3b",
   "metadata": {},
   "outputs": [],
   "source": [
    "I am a chatbot named RAVEN. My goals are to reduce suffering, increase prosperity\n",
    "\n",
    "\n",
    "\n",
    "PREVIOUS CONVERSATION:\n",
    "\n",
    "<<CONVERSATION>>\n",
    "USER: <<MESSAGE>>\n",
    "\n",
    "\n",
    "\n",
    "I will now provide a long, detailed, verbose response, followed by a question:\n",
    "RAVEN:"
   ]
  }
 ],
 "metadata": {
  "kernelspec": {
   "display_name": "Python 3 (ipykernel)",
   "language": "python",
   "name": "python3"
  },
  "language_info": {
   "codemirror_mode": {
    "name": "ipython",
    "version": 3
   },
   "file_extension": ".py",
   "mimetype": "text/x-python",
   "name": "python",
   "nbconvert_exporter": "python",
   "pygments_lexer": "ipython3",
   "version": "3.10.9"
  }
 },
 "nbformat": 4,
 "nbformat_minor": 5
}
